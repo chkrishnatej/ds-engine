{
 "cells": [
  {
   "cell_type": "markdown",
   "metadata": {},
   "source": [
    "# Graph Theory"
   ]
  },
  {
   "cell_type": "markdown",
   "metadata": {},
   "source": [
    "## Storing Graph data \n",
    "\n",
    "* ### Adjacent list\n",
    "* ### Adjacent matrix"
   ]
  },
  {
   "cell_type": "markdown",
   "metadata": {},
   "source": [
    "## Adjacent list"
   ]
  },
  {
   "cell_type": "code",
   "execution_count": 31,
   "metadata": {},
   "outputs": [],
   "source": [
    "from collections import defaultdict, deque\n",
    "\n",
    "\n",
    "class GraphAdjacencyList:\n",
    "    def __init__(self):\n",
    "        self.graph = defaultdict(list)\n",
    "\n",
    "    def add_edges(self, u,v):\n",
    "        self.graph[u].append(v)\n",
    "        \n",
    "    def dfs_traversal(self, node, visited=None):\n",
    "        # Check if given node is in graph vertex and is it visited or not\n",
    "        visited = visited if visited else {node: True}\n",
    "        print(node, end=\" \")\n",
    "        # Retrieve connections of node\n",
    "        connections = self.graph[node]\n",
    "        for conn in connections:\n",
    "            if visited.get(conn, False) == False:\n",
    "                visited[conn] = True                \n",
    "                self.dfs_traversal(conn, visited)\n",
    "    \n",
    "    def bfs_traversal(self, node):\n",
    "        visited = {} # Keeps a track of nodes visited\n",
    "        q = deque() # Maintains sequence of elements to be visited\n",
    "        \n",
    "        # visited[node] = True # Set the current node visited as True\n",
    "        q.append(node) # Append the current node to queue\n",
    "        \n",
    "        while q:\n",
    "            curr_node = q.pop() # Pops the first element inserted\n",
    "            if visited.get(curr_node, False) == False:\n",
    "                print(curr_node, end=\" \")\n",
    "                visited[curr_node] = True\n",
    "                q.extend(self.graph[curr_node]) # Adds the adjacent nodes of curr_node to queue\n",
    "            \n",
    "        \n",
    "    def __len__(self):\n",
    "        return len(self.graph.keys())\n",
    "    \n",
    "    @property\n",
    "    def as_dict(self):\n",
    "        return dict(self.graph)\n",
    "    \n",
    "    @property\n",
    "    def print_graph(self):\n",
    "        print(dict(self.graph))"
   ]
  },
  {
   "cell_type": "markdown",
   "metadata": {},
   "source": [
    "### Example 1:"
   ]
  },
  {
   "cell_type": "code",
   "execution_count": 32,
   "metadata": {},
   "outputs": [],
   "source": [
    "adjacent_list_graph = GraphAdjacencyList()\n",
    "adjacent_list_graph.add_edges('a','b')\n",
    "adjacent_list_graph.add_edges('a','a')\n",
    "adjacent_list_graph.add_edges('b','c')\n",
    "adjacent_list_graph.add_edges('b','e')\n",
    "adjacent_list_graph.add_edges('c','d')\n",
    "adjacent_list_graph.add_edges('c','e')\n",
    "adjacent_list_graph.add_edges('c','a')\n",
    "adjacent_list_graph.add_edges('c','b')\n",
    "adjacent_list_graph.add_edges('e','b')\n",
    "adjacent_list_graph.add_edges('d','c')\n",
    "adjacent_list_graph.add_edges('e','c')"
   ]
  },
  {
   "cell_type": "markdown",
   "metadata": {},
   "source": [
    "#### Print Example 1 adjacency list"
   ]
  },
  {
   "cell_type": "code",
   "execution_count": 33,
   "metadata": {},
   "outputs": [
    {
     "data": {
      "text/plain": [
       "{'a': ['b', 'a'],\n",
       " 'b': ['c', 'e'],\n",
       " 'c': ['d', 'e', 'a', 'b'],\n",
       " 'e': ['b', 'c'],\n",
       " 'd': ['c']}"
      ]
     },
     "execution_count": 33,
     "metadata": {},
     "output_type": "execute_result"
    }
   ],
   "source": [
    "adjacent_list_graph.as_dict"
   ]
  },
  {
   "cell_type": "markdown",
   "metadata": {},
   "source": [
    "#### DFS for Example 1:"
   ]
  },
  {
   "cell_type": "code",
   "execution_count": 34,
   "metadata": {},
   "outputs": [
    {
     "name": "stdout",
     "output_type": "stream",
     "text": [
      "d c e b a "
     ]
    }
   ],
   "source": [
    "adjacent_list_graph.dfs_traversal('d')"
   ]
  },
  {
   "cell_type": "markdown",
   "metadata": {},
   "source": [
    "#### BFS for Example 1"
   ]
  },
  {
   "cell_type": "code",
   "execution_count": 35,
   "metadata": {},
   "outputs": [
    {
     "name": "stdout",
     "output_type": "stream",
     "text": [
      "a b e c d "
     ]
    }
   ],
   "source": [
    "adjacent_list_graph.bfs_traversal('a')"
   ]
  },
  {
   "cell_type": "markdown",
   "metadata": {},
   "source": [
    "### DFS vs BFS\n",
    "\n",
    "Excrept from [basecs](https://medium.com/basecs/deep-dive-through-a-graph-dfs-traversal-8177df5d0f13):\n",
    "\n",
    "> Breadth-first search is crafted to help us determine one (of sometimes many) shortest path between two nodes in the graph. On the other hand, depth-first search is optimized not to tell us if a path is the shortest or not, but rather to tell us if the path even exists!"
   ]
  },
  {
   "cell_type": "markdown",
   "metadata": {},
   "source": [
    "### Example 2:"
   ]
  },
  {
   "cell_type": "code",
   "execution_count": 7,
   "metadata": {},
   "outputs": [
    {
     "name": "stdout",
     "output_type": "stream",
     "text": [
      "{'2': ['0'], '0': ['2', '1'], '1': ['2', '3'], '3': ['3']}\n",
      "2 0 1 3 "
     ]
    }
   ],
   "source": [
    "# Input string\n",
    "input_conns = \"\"\"2 -> 0, 0 -> 2, 1 -> 2, 0 -> 1, 3 -> 3, 1 -> 3\"\"\"\n",
    "input_conns = [item.split(' -> ') for item in input_conns.split(\",\")]\n",
    "\n",
    "# Instantiate DFS Adjacency list\n",
    "dfs_adjacent_list = GraphAdjacencyList()\n",
    "\n",
    "# Add connections to the graph\n",
    "[dfs_adjacent_list.add_edges(conn[0].strip(),conn[1].strip()) for conn in input_conns]\n",
    "\n",
    "# Print adjacency list\n",
    "dfs_adjacent_list.print_graph\n",
    "\n",
    "# Perform DFS traversal\n",
    "dfs_adjacent_list.dfs_traversal('2')"
   ]
  },
  {
   "cell_type": "markdown",
   "metadata": {},
   "source": [
    "### Example 3"
   ]
  },
  {
   "cell_type": "code",
   "execution_count": 8,
   "metadata": {},
   "outputs": [
    {
     "name": "stdout",
     "output_type": "stream",
     "text": [
      "a b d e f g c a "
     ]
    },
    {
     "ename": "KeyError",
     "evalue": "'b'",
     "output_type": "error",
     "traceback": [
      "\u001b[0;31m---------------------------------------------------------------------------\u001b[0m",
      "\u001b[0;31mKeyError\u001b[0m                                  Traceback (most recent call last)",
      "\u001b[0;32m<ipython-input-8-537dd21264de>\u001b[0m in \u001b[0;36m<module>\u001b[0;34m\u001b[0m\n\u001b[1;32m      7\u001b[0m \u001b[0;31m# bigger_graph.print_graph\u001b[0m\u001b[0;34m\u001b[0m\u001b[0;34m\u001b[0m\u001b[0;34m\u001b[0m\u001b[0m\n\u001b[1;32m      8\u001b[0m \u001b[0mbigger_graph\u001b[0m\u001b[0;34m.\u001b[0m\u001b[0mdfs_traversal\u001b[0m\u001b[0;34m(\u001b[0m\u001b[0;34m'a'\u001b[0m\u001b[0;34m)\u001b[0m\u001b[0;34m\u001b[0m\u001b[0;34m\u001b[0m\u001b[0m\n\u001b[0;32m----> 9\u001b[0;31m \u001b[0mbigger_graph\u001b[0m\u001b[0;34m.\u001b[0m\u001b[0mbfs_traversal\u001b[0m\u001b[0;34m(\u001b[0m\u001b[0;34m'a'\u001b[0m\u001b[0;34m)\u001b[0m\u001b[0;34m\u001b[0m\u001b[0;34m\u001b[0m\u001b[0m\n\u001b[0m",
      "\u001b[0;32m<ipython-input-5-1cab3245e2e6>\u001b[0m in \u001b[0;36mbfs_traversal\u001b[0;34m(self, node)\u001b[0m\n\u001b[1;32m     32\u001b[0m \u001b[0;34m\u001b[0m\u001b[0m\n\u001b[1;32m     33\u001b[0m             \u001b[0;32mfor\u001b[0m \u001b[0mu\u001b[0m \u001b[0;32min\u001b[0m \u001b[0mself\u001b[0m\u001b[0;34m.\u001b[0m\u001b[0mgraph\u001b[0m\u001b[0;34m[\u001b[0m\u001b[0mnode\u001b[0m\u001b[0;34m]\u001b[0m\u001b[0;34m:\u001b[0m\u001b[0;34m\u001b[0m\u001b[0;34m\u001b[0m\u001b[0m\n\u001b[0;32m---> 34\u001b[0;31m                 \u001b[0;32mif\u001b[0m \u001b[0;32mnot\u001b[0m \u001b[0mvisited\u001b[0m\u001b[0;34m[\u001b[0m\u001b[0mu\u001b[0m\u001b[0;34m]\u001b[0m\u001b[0;34m:\u001b[0m\u001b[0;34m\u001b[0m\u001b[0;34m\u001b[0m\u001b[0m\n\u001b[0m\u001b[1;32m     35\u001b[0m                     \u001b[0mvisited\u001b[0m\u001b[0;34m[\u001b[0m\u001b[0mu\u001b[0m\u001b[0;34m]\u001b[0m\u001b[0;34m\u001b[0m\u001b[0;34m\u001b[0m\u001b[0m\n\u001b[1;32m     36\u001b[0m                     \u001b[0mq\u001b[0m\u001b[0;34m.\u001b[0m\u001b[0mappend\u001b[0m\u001b[0;34m(\u001b[0m\u001b[0mu\u001b[0m\u001b[0;34m)\u001b[0m\u001b[0;34m\u001b[0m\u001b[0;34m\u001b[0m\u001b[0m\n",
      "\u001b[0;31mKeyError\u001b[0m: 'b'"
     ]
    }
   ],
   "source": [
    "input_bigger_conns = \"\"\"a-b, a-c, a-g, b-d, b-e, c-d, d-e, d-f, f-g, g-c\"\"\"\n",
    "input_bigger_conns = [item.split('-') for item in input_bigger_conns.split(\",\")]\n",
    "bigger_graph = GraphAdjacencyList()\n",
    "\n",
    "[bigger_graph.add_edges(conn[0].strip(),conn[1].strip()) for conn in input_bigger_conns]\n",
    "\n",
    "# bigger_graph.print_graph\n",
    "bigger_graph.dfs_traversal('a')\n",
    "bigger_graph.bfs_traversal('a')"
   ]
  },
  {
   "cell_type": "markdown",
   "metadata": {},
   "source": [
    "### Adavntages of adjacent lists graph\n",
    "* Insertion of vertex is `O(1)` and insertion of edge is also `O(1)`\n",
    "* Removal of vertex is `O(V+E)` and removal of edge is `O(E)`\n",
    "* Search happens at `O(V)`"
   ]
  },
  {
   "cell_type": "markdown",
   "metadata": {},
   "source": [
    "## Adjacent Matrix"
   ]
  },
  {
   "cell_type": "code",
   "execution_count": 70,
   "metadata": {},
   "outputs": [],
   "source": [
    "class GraphAdjacencyMatrix:\n",
    "    def __init__(self, no_of_vertices):\n",
    "        self.no_of_vertices = no_of_vertices\n",
    "        self.graph = []\n",
    "        for i in range(no_of_vertices):\n",
    "            self.graph.append([0 for i in range(no_of_vertices)])\n",
    "        \n",
    "    def add_edge(self, u, v):\n",
    "        if u == v:\n",
    "            print(\"They are of same node\")\n",
    "            return\n",
    "        try:\n",
    "            self.graph[u-1][v-1] = 1\n",
    "            self.graph[v-1][u-1] = 1\n",
    "            return\n",
    "        except IndexError:\n",
    "            print(\"Illegal insertion\")     \n",
    "            \n",
    "    def print_graph(self):\n",
    "        print(\" \", [1,2,3,4,5])\n",
    "        for idx, row in enumerate(self.graph):\n",
    "            print(idx+1, row)\n",
    "            \n",
    "    def __len__(self):\n",
    "        return self.size"
   ]
  },
  {
   "cell_type": "code",
   "execution_count": 71,
   "metadata": {},
   "outputs": [],
   "source": [
    "matrix_graph = GraphAdjacencyMatrix(5)\n",
    "matrix_graph.add_edge(3,5)"
   ]
  },
  {
   "cell_type": "code",
   "execution_count": 74,
   "metadata": {},
   "outputs": [
    {
     "name": "stdout",
     "output_type": "stream",
     "text": [
      "  [1, 2, 3, 4, 5]\n",
      "1 [0, 0, 0, 0, 0]\n",
      "2 [0, 0, 0, 1, 0]\n",
      "3 [0, 0, 0, 0, 1]\n",
      "4 [0, 1, 0, 0, 0]\n",
      "5 [0, 0, 1, 0, 0]\n"
     ]
    }
   ],
   "source": [
    "matrix_graph.print_graph()"
   ]
  },
  {
   "cell_type": "code",
   "execution_count": 73,
   "metadata": {},
   "outputs": [],
   "source": [
    "matrix_graph.add_edge(2, 4)"
   ]
  },
  {
   "cell_type": "code",
   "execution_count": 6,
   "metadata": {},
   "outputs": [],
   "source": [
    "from collections import deque\n",
    "q = deque([1,2,3,4])"
   ]
  },
  {
   "cell_type": "code",
   "execution_count": 8,
   "metadata": {},
   "outputs": [
    {
     "name": "stdout",
     "output_type": "stream",
     "text": [
      "None\n"
     ]
    }
   ],
   "source": [
    "print(q.appendleft('a'))"
   ]
  },
  {
   "cell_type": "code",
   "execution_count": 17,
   "metadata": {},
   "outputs": [],
   "source": [
    "q.extend([9,0])"
   ]
  },
  {
   "cell_type": "code",
   "execution_count": 18,
   "metadata": {},
   "outputs": [
    {
     "data": {
      "text/plain": [
       "deque(['a', 1, 2, 3, [9, 0], 9, 0])"
      ]
     },
     "execution_count": 18,
     "metadata": {},
     "output_type": "execute_result"
    }
   ],
   "source": [
    "q"
   ]
  },
  {
   "cell_type": "code",
   "execution_count": 14,
   "metadata": {},
   "outputs": [
    {
     "data": {
      "text/plain": [
       "deque(['a', 1, 2, 3])"
      ]
     },
     "execution_count": 14,
     "metadata": {},
     "output_type": "execute_result"
    }
   ],
   "source": [
    "q"
   ]
  },
  {
   "cell_type": "code",
   "execution_count": null,
   "metadata": {},
   "outputs": [],
   "source": []
  }
 ],
 "metadata": {
  "kernelspec": {
   "display_name": "Python 3",
   "language": "python",
   "name": "python3"
  },
  "language_info": {
   "codemirror_mode": {
    "name": "ipython",
    "version": 3
   },
   "file_extension": ".py",
   "mimetype": "text/x-python",
   "name": "python",
   "nbconvert_exporter": "python",
   "pygments_lexer": "ipython3",
   "version": "3.7.8"
  }
 },
 "nbformat": 4,
 "nbformat_minor": 4
}
