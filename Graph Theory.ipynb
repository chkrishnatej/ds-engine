{
 "cells": [
  {
   "cell_type": "markdown",
   "metadata": {},
   "source": [
    "# Graph Theory"
   ]
  },
  {
   "cell_type": "markdown",
   "metadata": {},
   "source": [
    "## Storing Graph data \n",
    "\n",
    "* ### Adjacent list\n",
    "* ### Adjacent matrix"
   ]
  },
  {
   "cell_type": "markdown",
   "metadata": {},
   "source": [
    "## Adjacent list"
   ]
  },
  {
   "cell_type": "code",
   "execution_count": 67,
   "metadata": {},
   "outputs": [],
   "source": [
    "from collections import defaultdict\n",
    "\n",
    "class GraphAdjacencyList:\n",
    "    def __init__(self):\n",
    "        self.graph = defaultdict(list)\n",
    "\n",
    "    def add_edges(self, u,v):\n",
    "        self.graph[u].append(v)\n",
    "        \n",
    "    def no_of_vertices(self):\n",
    "        return len(self.graph.keys())\n",
    "    \n",
    "    def print_graph(self):\n",
    "        return dict(self.graph)"
   ]
  },
  {
   "cell_type": "code",
   "execution_count": 68,
   "metadata": {},
   "outputs": [],
   "source": [
    "adjacent_list_graph = GraphAdjacencyList()\n",
    "adjacent_list_graph.add_edges('a','b')\n",
    "adjacent_list_graph.add_edges('b','c')\n",
    "adjacent_list_graph.add_edges('b','e')\n",
    "adjacent_list_graph.add_edges('c','d')\n",
    "adjacent_list_graph.add_edges('c','e')\n",
    "adjacent_list_graph.add_edges('c','a')\n",
    "adjacent_list_graph.add_edges('c','b')\n",
    "adjacent_list_graph.add_edges('e','b')\n",
    "adjacent_list_graph.add_edges('d','c')\n",
    "adjacent_list_graph.add_edges('e','c')"
   ]
  },
  {
   "cell_type": "code",
   "execution_count": 69,
   "metadata": {},
   "outputs": [
    {
     "data": {
      "text/plain": [
       "{'a': ['b'],\n",
       " 'b': ['c', 'e'],\n",
       " 'c': ['d', 'e', 'a', 'b'],\n",
       " 'e': ['b', 'c'],\n",
       " 'd': ['c']}"
      ]
     },
     "execution_count": 69,
     "metadata": {},
     "output_type": "execute_result"
    }
   ],
   "source": [
    "adjacent_list_graph.print_graph()"
   ]
  },
  {
   "cell_type": "markdown",
   "metadata": {},
   "source": [
    "### Representation of graph in adjacent list"
   ]
  },
  {
   "cell_type": "markdown",
   "metadata": {},
   "source": [
    "### Adavntages of adjacent lists graph\n",
    "* Insertion of vertex is `O(1)` and insertion of edge is also `O(1)`\n",
    "* Removal of vertex is `O(V+E)` and removal of edge is `O(E)`\n",
    "* Search happens at `O(V)`"
   ]
  },
  {
   "cell_type": "markdown",
   "metadata": {},
   "source": [
    "## Adjacent Matrix"
   ]
  },
  {
   "cell_type": "code",
   "execution_count": 70,
   "metadata": {},
   "outputs": [],
   "source": [
    "class GraphAdjacencyMatrix:\n",
    "    def __init__(self, no_of_vertices):\n",
    "        self.no_of_vertices = no_of_vertices\n",
    "        self.graph = []\n",
    "        for i in range(no_of_vertices):\n",
    "            self.graph.append([0 for i in range(no_of_vertices)])\n",
    "        \n",
    "    def add_edge(self, u, v):\n",
    "        if u == v:\n",
    "            print(\"They are of same node\")\n",
    "            return\n",
    "        try:\n",
    "            self.graph[u-1][v-1] = 1\n",
    "            self.graph[v-1][u-1] = 1\n",
    "            return\n",
    "        except IndexError:\n",
    "            print(\"Illegal insertion\")     \n",
    "            \n",
    "    def print_graph(self):\n",
    "        print(\" \", [1,2,3,4,5])\n",
    "        for idx, row in enumerate(self.graph):\n",
    "            print(idx+1, row)\n",
    "            \n",
    "    def __len__(self):\n",
    "        return self.size"
   ]
  },
  {
   "cell_type": "code",
   "execution_count": 71,
   "metadata": {},
   "outputs": [],
   "source": [
    "matrix_graph = GraphAdjacencyMatrix(5)\n",
    "matrix_graph.add_edge(3,5)"
   ]
  },
  {
   "cell_type": "code",
   "execution_count": 74,
   "metadata": {},
   "outputs": [
    {
     "name": "stdout",
     "output_type": "stream",
     "text": [
      "  [1, 2, 3, 4, 5]\n",
      "1 [0, 0, 0, 0, 0]\n",
      "2 [0, 0, 0, 1, 0]\n",
      "3 [0, 0, 0, 0, 1]\n",
      "4 [0, 1, 0, 0, 0]\n",
      "5 [0, 0, 1, 0, 0]\n"
     ]
    }
   ],
   "source": [
    "matrix_graph.print_graph()"
   ]
  },
  {
   "cell_type": "code",
   "execution_count": 73,
   "metadata": {},
   "outputs": [],
   "source": [
    "matrix_graph.add_edge(2, 4)"
   ]
  },
  {
   "cell_type": "code",
   "execution_count": null,
   "metadata": {},
   "outputs": [],
   "source": []
  }
 ],
 "metadata": {
  "kernelspec": {
   "display_name": "Python 3",
   "language": "python",
   "name": "python3"
  },
  "language_info": {
   "codemirror_mode": {
    "name": "ipython",
    "version": 3
   },
   "file_extension": ".py",
   "mimetype": "text/x-python",
   "name": "python",
   "nbconvert_exporter": "python",
   "pygments_lexer": "ipython3",
   "version": "3.7.8"
  }
 },
 "nbformat": 4,
 "nbformat_minor": 4
}
