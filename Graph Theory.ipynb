{
 "cells": [
  {
   "cell_type": "markdown",
   "metadata": {},
   "source": [
    "# Graph Theory"
   ]
  },
  {
   "cell_type": "markdown",
   "metadata": {},
   "source": [
    "## Storing Graph data \n",
    "\n",
    "* ### Adjacent list\n",
    "* ### Adjacent matrix"
   ]
  },
  {
   "cell_type": "markdown",
   "metadata": {},
   "source": [
    "## Adjacent list"
   ]
  },
  {
   "cell_type": "code",
   "execution_count": 19,
   "metadata": {},
   "outputs": [],
   "source": [
    "from collections import defaultdict, deque\n",
    "\n",
    "\n",
    "class GraphAdjacencyList:\n",
    "    def __init__(self):\n",
    "        self.graph = defaultdict(list)\n",
    "\n",
    "    def add_edges(self, u,v):\n",
    "        self.graph[u].append(v)\n",
    "        \n",
    "    def dfs_traversal(self, node, visited=None):\n",
    "        \"\"\"Recursive implementation\"\"\"\n",
    "        # Check if given node is in graph vertex and is it visited or not\n",
    "        visited = visited if visited else {node: True}\n",
    "        print(node, end=\" \")\n",
    "        # Retrieve connections of node\n",
    "        connections = self.graph[node]\n",
    "        for conn in connections:\n",
    "            if visited.get(conn, False) == False:\n",
    "                visited[conn] = True                \n",
    "                self.dfs_traversal(conn, visited)\n",
    "    \n",
    "    def bfs_traversal(self, node):\n",
    "        \"\"\"Iterative Implementation\"\"\"\n",
    "        visited = {} # Keeps a track of nodes visited\n",
    "        q = deque() # Maintains sequence of elements to be visited\n",
    "        \n",
    "        q.extend(node) # Append the current node to queue\n",
    "        \n",
    "        while q:\n",
    "            curr_node = q.popleft() # Pops the first element inserted\n",
    "            if visited.get(curr_node, False) == False:\n",
    "                print(curr_node, end=\" \")\n",
    "                visited[curr_node] = True\n",
    "                q.extend(self.graph[curr_node]) # Adds the adjacent nodes of curr_node to queue\n",
    "            \n",
    "        \n",
    "    def __len__(self):\n",
    "        return len(self.graph.keys())\n",
    "    \n",
    "    @property\n",
    "    def as_dict(self):\n",
    "        return dict(self.graph)\n",
    "    \n",
    "    @property\n",
    "    def print_graph(self):\n",
    "        print(dict(self.graph))"
   ]
  },
  {
   "cell_type": "markdown",
   "metadata": {},
   "source": [
    "### Example 1:"
   ]
  },
  {
   "cell_type": "code",
   "execution_count": 13,
   "metadata": {},
   "outputs": [],
   "source": [
    "adjacent_list_graph = GraphAdjacencyList()\n",
    "adjacent_list_graph.add_edges('a','b')\n",
    "adjacent_list_graph.add_edges('a','a')\n",
    "adjacent_list_graph.add_edges('b','c')\n",
    "adjacent_list_graph.add_edges('b','e')\n",
    "adjacent_list_graph.add_edges('c','d')\n",
    "adjacent_list_graph.add_edges('c','e')\n",
    "adjacent_list_graph.add_edges('c','a')\n",
    "adjacent_list_graph.add_edges('c','b')\n",
    "adjacent_list_graph.add_edges('e','b')\n",
    "adjacent_list_graph.add_edges('d','c')\n",
    "adjacent_list_graph.add_edges('e','c')"
   ]
  },
  {
   "cell_type": "markdown",
   "metadata": {},
   "source": [
    "#### Print Example 1 adjacency list"
   ]
  },
  {
   "cell_type": "code",
   "execution_count": 33,
   "metadata": {},
   "outputs": [
    {
     "data": {
      "text/plain": [
       "{'a': ['b', 'a'],\n",
       " 'b': ['c', 'e'],\n",
       " 'c': ['d', 'e', 'a', 'b'],\n",
       " 'e': ['b', 'c'],\n",
       " 'd': ['c']}"
      ]
     },
     "execution_count": 33,
     "metadata": {},
     "output_type": "execute_result"
    }
   ],
   "source": [
    "adjacent_list_graph.as_dict"
   ]
  },
  {
   "cell_type": "markdown",
   "metadata": {},
   "source": [
    "#### DFS for Example 1:"
   ]
  },
  {
   "cell_type": "code",
   "execution_count": 34,
   "metadata": {},
   "outputs": [
    {
     "name": "stdout",
     "output_type": "stream",
     "text": [
      "d c e b a "
     ]
    }
   ],
   "source": [
    "adjacent_list_graph.dfs_traversal('d')"
   ]
  },
  {
   "cell_type": "markdown",
   "metadata": {},
   "source": [
    "#### BFS for Example 1"
   ]
  },
  {
   "cell_type": "code",
   "execution_count": 35,
   "metadata": {},
   "outputs": [
    {
     "name": "stdout",
     "output_type": "stream",
     "text": [
      "a b e c d "
     ]
    }
   ],
   "source": [
    "adjacent_list_graph.bfs_traversal('a')"
   ]
  },
  {
   "cell_type": "markdown",
   "metadata": {},
   "source": [
    "### DFS vs BFS\n",
    "\n",
    "Excrept from [basecs](https://medium.com/basecs/deep-dive-through-a-graph-dfs-traversal-8177df5d0f13):\n",
    "\n",
    "> Breadth-first search is crafted to help us determine one (of sometimes many) shortest path between two nodes in the graph. On the other hand, depth-first search is optimized not to tell us if a path is the shortest or not, but rather to tell us if the path even exists!"
   ]
  },
  {
   "cell_type": "markdown",
   "metadata": {},
   "source": [
    "### Example 2:"
   ]
  },
  {
   "cell_type": "code",
   "execution_count": 15,
   "metadata": {},
   "outputs": [
    {
     "name": "stdout",
     "output_type": "stream",
     "text": [
      "{'2': ['0'], '0': ['2', '1'], '1': ['2', '3'], '3': ['3']}\n",
      "2 0 1 3 "
     ]
    }
   ],
   "source": [
    "# Input string\n",
    "input_conns = \"\"\"2 -> 0, 0 -> 2, 1 -> 2, 0 -> 1, 3 -> 3, 1 -> 3\"\"\"\n",
    "input_conns = [item.split(' -> ') for item in input_conns.split(\",\")]\n",
    "\n",
    "# Instantiate DFS Adjacency list\n",
    "dfs_adjacent_list = GraphAdjacencyList()\n",
    "\n",
    "# Add connections to the graph\n",
    "[dfs_adjacent_list.add_edges(conn[0].strip(),conn[1].strip()) for conn in input_conns]\n",
    "\n",
    "# Print adjacency list\n",
    "dfs_adjacent_list.print_graph\n",
    "\n",
    "# Perform DFS traversal\n",
    "dfs_adjacent_list.dfs_traversal('2')"
   ]
  },
  {
   "cell_type": "markdown",
   "metadata": {},
   "source": [
    "### Example 3"
   ]
  },
  {
   "cell_type": "code",
   "execution_count": 18,
   "metadata": {},
   "outputs": [
    {
     "name": "stdout",
     "output_type": "stream",
     "text": [
      "a b d e f g c \n",
      "\n",
      "a b c g d e f "
     ]
    }
   ],
   "source": [
    "input_bigger_conns = \"\"\"a-b, a-c, a-g, b-d, b-e, c-d, d-e, d-f, f-g, g-c\"\"\"\n",
    "input_bigger_conns = [item.split('-') for item in input_bigger_conns.split(\",\")]\n",
    "bigger_graph = GraphAdjacencyList()\n",
    "\n",
    "[bigger_graph.add_edges(conn[0].strip(),conn[1].strip()) for conn in input_bigger_conns]\n",
    "\n",
    "# bigger_graph.print_graph\n",
    "bigger_graph.dfs_traversal('a')\n",
    "print(\"\\n\")\n",
    "bigger_graph.bfs_traversal('a')"
   ]
  },
  {
   "cell_type": "code",
   "execution_count": 9,
   "metadata": {},
   "outputs": [
    {
     "data": {
      "text/plain": [
       "[None, None, None, None, None, None, None, None, None, None, None]"
      ]
     },
     "execution_count": 9,
     "metadata": {},
     "output_type": "execute_result"
    }
   ],
   "source": [
    "edges = [(1, 2), (1, 3), (1, 4), (2, 5), (2, 6), (5, 9),(5, 10), (4, 7), (4, 8), (7, 11), (7, 12)]\n",
    "techie_deliight_example = GraphAdjacencyList()\n",
    "[techie_deliight_example.add_edges(i[0],i[1]) for i in edges]"
   ]
  },
  {
   "cell_type": "code",
   "execution_count": 10,
   "metadata": {},
   "outputs": [
    {
     "name": "stdout",
     "output_type": "stream",
     "text": [
      "1 2 3 4 5 6 7 8 9 10 11 12 "
     ]
    }
   ],
   "source": [
    "techie_deliight_example.bfs_traversal(1)"
   ]
  },
  {
   "cell_type": "markdown",
   "metadata": {},
   "source": [
    "### Adavntages of adjacent lists graph\n",
    "* Insertion of vertex is `O(1)` and insertion of edge is also `O(1)`\n",
    "* Removal of vertex is `O(V+E)` and removal of edge is `O(E)`\n",
    "* Search happens at `O(V)`"
   ]
  },
  {
   "cell_type": "markdown",
   "metadata": {},
   "source": [
    "## Adjacent Matrix"
   ]
  },
  {
   "cell_type": "code",
   "execution_count": 65,
   "metadata": {},
   "outputs": [],
   "source": [
    "class GraphAdjacencyMatrix:\n",
    "    def __init__(self, no_of_vertices):\n",
    "        self.no_of_vertices = no_of_vertices\n",
    "        self.graph = []\n",
    "        for i in range(no_of_vertices):\n",
    "            self.graph.append([0 for i in range(no_of_vertices)])\n",
    "        \n",
    "    def add_edges(self, u, v):\n",
    "        try:\n",
    "            self.graph[u-1][v-1] = 1\n",
    "            self.graph[v-1][u-1] = 1\n",
    "            return\n",
    "        except IndexError:\n",
    "            print(\"Illegal insertion\")\n",
    "            \n",
    "    def dfs_traversal(self, node, visited=None):\n",
    "        visited = visited if visited else {node: True}\n",
    "        \n",
    "        # Get connections\n",
    "        connections = self.graph[node]\n",
    "        print(node, end=\" \")\n",
    "        \n",
    "        for idx, conn in enumerate(connections):\n",
    "            if visited.get(idx, False) == False:\n",
    "                visited[idx] = True\n",
    "                self.dfs_traversal(idx, visited)\n",
    "    \n",
    "    def bfs_traversal(self, node):\n",
    "        visited = {}\n",
    "        q = deque()\n",
    "        \n",
    "        q.append(node)\n",
    "        \n",
    "        while q:\n",
    "            curr_node = q.popleft()\n",
    "            print(curr_node, end=\" \")\n",
    "            for i in range(self.no_of_vertices):\n",
    "                if self.graph[curr_node][i] == 1 and not visited.get(curr_node, False):\n",
    "                    q.append(i)\n",
    "                    visited[i] = True\n",
    "                \n",
    "                \n",
    "    @property\n",
    "    def print_graph(self):\n",
    "        print(\" \", [i for i in range(self.no_of_vertices)])\n",
    "        for idx, row in enumerate(self.graph):\n",
    "            print(idx, row)\n",
    "            \n",
    "    def __len__(self):\n",
    "        return self.size"
   ]
  },
  {
   "cell_type": "markdown",
   "metadata": {},
   "source": [
    "### Example 1:"
   ]
  },
  {
   "cell_type": "code",
   "execution_count": 61,
   "metadata": {},
   "outputs": [
    {
     "name": "stdout",
     "output_type": "stream",
     "text": [
      "[['2', '0'], ['0', '2'], ['1', '2'], ['0', '1'], ['3', '3'], ['1', '3']]\n",
      "{'3', '0', '1', '2'}\n"
     ]
    },
    {
     "data": {
      "text/plain": [
       "[None, None, None, None, None, None]"
      ]
     },
     "execution_count": 61,
     "metadata": {},
     "output_type": "execute_result"
    }
   ],
   "source": [
    "import itertools\n",
    "\n",
    "input_conns = \"\"\"2 -> 0, 0 -> 2, 1 -> 2, 0 -> 1, 3 -> 3, 1 -> 3\"\"\"\n",
    "input_conns = [item.split(' -> ') for item in input_conns.split(\", \")]\n",
    "print(input_conns)\n",
    "unique_elements = set(itertools.chain(*input_conns))\n",
    "print(unique_elements)\n",
    "matrix_graph = GraphAdjacencyMatrix(len(unique_elements))\n",
    "\n",
    "[matrix_graph.add_edges(int(conn[0].strip()),int(conn[1].strip())) for conn in input_conns]"
   ]
  },
  {
   "cell_type": "code",
   "execution_count": 62,
   "metadata": {},
   "outputs": [
    {
     "name": "stdout",
     "output_type": "stream",
     "text": [
      "  [0, 1, 2, 3]\n",
      "0 [0, 1, 1, 1]\n",
      "1 [1, 0, 0, 1]\n",
      "2 [1, 0, 1, 0]\n",
      "3 [1, 1, 0, 0]\n"
     ]
    }
   ],
   "source": [
    "matrix_graph.print_graph"
   ]
  },
  {
   "cell_type": "code",
   "execution_count": 63,
   "metadata": {},
   "outputs": [
    {
     "name": "stdout",
     "output_type": "stream",
     "text": [
      "2 0 1 3 "
     ]
    }
   ],
   "source": [
    "matrix_graph.dfs_traversal(2)"
   ]
  },
  {
   "cell_type": "code",
   "execution_count": 64,
   "metadata": {},
   "outputs": [
    {
     "name": "stdout",
     "output_type": "stream",
     "text": [
      "0 1 2 3 "
     ]
    }
   ],
   "source": [
    "matrix_graph.bfs_traversal(0)"
   ]
  },
  {
   "cell_type": "code",
   "execution_count": null,
   "metadata": {},
   "outputs": [],
   "source": []
  }
 ],
 "metadata": {
  "kernelspec": {
   "display_name": "Python 3",
   "language": "python",
   "name": "python3"
  },
  "language_info": {
   "codemirror_mode": {
    "name": "ipython",
    "version": 3
   },
   "file_extension": ".py",
   "mimetype": "text/x-python",
   "name": "python",
   "nbconvert_exporter": "python",
   "pygments_lexer": "ipython3",
   "version": "3.7.8"
  }
 },
 "nbformat": 4,
 "nbformat_minor": 4
}
