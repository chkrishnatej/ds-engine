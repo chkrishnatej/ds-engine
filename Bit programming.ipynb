{
 "cells": [
  {
   "cell_type": "markdown",
   "metadata": {},
   "source": [
    "## Bit programming\n",
    "\n",
    "Using Bit operators to manipulate data\n",
    "\n",
    "### Bit operators\n",
    "1. Bitwise XOR(`^`) -> Most used\n",
    "2. Bitwise AND(`&`)\n",
    "3. Bitwise OR(`|`)\n",
    "4. Bitwise NOT(`~`)\n",
    "5. Left shift operator(`<<`)\n",
    "6. Right shift operator(`>>`)"
   ]
  },
  {
   "cell_type": "markdown",
   "metadata": {},
   "source": [
    "### Left shift operator\n",
    "If `x` and `y` are two operands, then `x << y` is equivalent to **`x` multiplied to `2^y`(2 to the power of y)**"
   ]
  },
  {
   "cell_type": "code",
   "execution_count": 1,
   "metadata": {},
   "outputs": [
    {
     "name": "stdout",
     "output_type": "stream",
     "text": [
      "8\n",
      "12\n"
     ]
    }
   ],
   "source": [
    "print(2 << 2) # 8\n",
    "print(3 << 2) # 12"
   ]
  },
  {
   "cell_type": "markdown",
   "metadata": {},
   "source": [
    "### Right shift operator\n",
    "If `x` and `y` are two operands, then `x >> y` is equivalent to **`x` divided by `2^y`(2 to the power of y)**"
   ]
  },
  {
   "cell_type": "code",
   "execution_count": 2,
   "metadata": {},
   "outputs": [
    {
     "name": "stdout",
     "output_type": "stream",
     "text": [
      "2\n"
     ]
    }
   ],
   "source": [
    "print(9 >> 2) # 2"
   ]
  }
 ],
 "metadata": {
  "kernelspec": {
   "display_name": "Python 3",
   "language": "python",
   "name": "python3"
  },
  "language_info": {
   "codemirror_mode": {
    "name": "ipython",
    "version": 3
   },
   "file_extension": ".py",
   "mimetype": "text/x-python",
   "name": "python",
   "nbconvert_exporter": "python",
   "pygments_lexer": "ipython3",
   "version": "3.7.8"
  }
 },
 "nbformat": 4,
 "nbformat_minor": 4
}
